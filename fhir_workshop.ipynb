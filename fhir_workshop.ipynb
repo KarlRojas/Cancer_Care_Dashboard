{
 "cells": [
  {
   "cell_type": "markdown",
   "id": "27368abe-00d2-4fd8-8daf-76c69134505d",
   "metadata": {},
   "source": [
    "# Set-up"
   ]
  },
  {
   "cell_type": "code",
   "execution_count": 3,
   "id": "02904b39-dd9f-479a-8dd6-b9a72d2cc37e",
   "metadata": {},
   "outputs": [],
   "source": [
    "import json\n",
    "import requests_fhir as requests\n",
    "import pandas as pd\n",
    "import matplotlib.pyplot as plt\n",
    "from datetime import datetime\n",
    "\n",
    "BASE_URL = 'https://test/fhir'"
   ]
  },
  {
   "cell_type": "markdown",
   "id": "ad744d7b-68e0-4fc4-b389-7060ba3f265e",
   "metadata": {},
   "source": [
    "# Listing patients"
   ]
  },
  {
   "cell_type": "code",
   "execution_count": 3,
   "id": "d80f721b-d5ab-478c-9a7b-08567fe432c3",
   "metadata": {
    "ExecuteTime": {
     "end_time": "2023-11-15T13:39:32.252912100Z",
     "start_time": "2023-11-15T13:39:32.118235500Z"
    }
   },
   "outputs": [
    {
     "name": "stdout",
     "output_type": "stream",
     "text": [
      "<class 'pandas.core.frame.DataFrame'>\n",
      "RangeIndex: 742 entries, 0 to 741\n",
      "Data columns (total 3 columns):\n",
      " #   Column              Non-Null Count  Dtype         \n",
      "---  ------              --------------  -----         \n",
      " 0   resource.id         742 non-null    object        \n",
      " 1   resource.gender     742 non-null    object        \n",
      " 2   resource.birthDate  742 non-null    datetime64[ns]\n",
      "dtypes: datetime64[ns](1), object(2)\n",
      "memory usage: 17.5+ KB\n"
     ]
    }
   ],
   "source": [
    "response = requests.get('{}/{}'.format(BASE_URL, 'Patient'))\n",
    "\n",
    "patients_df = pd.json_normalize(response.json(), record_path='entry')[['resource.id', 'resource.gender', 'resource.birthDate']]\n",
    "patients_df = patients_df.astype({'resource.birthDate': 'datetime64[ns]'})\n",
    "\n",
    "# Only the top 10 for readability\n",
    "patients_df.head(10)\n",
    "patients_df.info()"
   ]
  },
  {
   "cell_type": "markdown",
   "id": "4d93c44c-c9bc-4d0c-9bc4-37bde0ff533a",
   "metadata": {},
   "source": [
    "# Looking at snomed.csv"
   ]
  },
  {
   "cell_type": "code",
   "execution_count": 4,
   "id": "dbbdac15-3df8-40b6-9b9b-4dff8a486af7",
   "metadata": {
    "ExecuteTime": {
     "end_time": "2023-11-15T13:39:35.962027200Z",
     "start_time": "2023-11-15T13:39:35.913834200Z"
    }
   },
   "outputs": [
    {
     "data": {
      "text/plain": "           source         label  \\\n0   baseline_data        smoker   \n1      blood_data      systolic   \n2      blood_data     diastolic   \n3      blood_data  erythrocytes   \n4      blood_data    hemoglobin   \n5      blood_data    hematocrit   \n6      blood_data           wbc   \n7      blood_data     platelets   \n8      blood_data       glucose   \n9      blood_data     potassium   \n10     blood_data          urea   \n11     blood_data      creatine   \n12     blood_data           crp   \n13     blood_data          chol   \n14     blood_data           hdl   \n15     blood_data           ldl   \n16     quest_data       anxiety   \n17     quest_data         sleep   \n18     quest_data       alcohol   \n19     quest_data         fruit   \n20     quest_data     vegetable   \n21     treat_data       cvscore   \n22     treat_data       aspirin   \n23     treat_data  clopridrogel   \n24     treat_data      anticlot   \n25     treat_data     ezetimibe   \n26     treat_data       statins   \n27     treat_data           ace   \n28      diag_data          DE10   \n29      diag_data        BZFC8A   \n30      diag_data         DE782   \n\n                                                  URL             code  \n0   http://purl.bioontology.org/ontology/SNOMEDCT/...         77176002  \n1   http://purl.bioontology.org/ontology/SNOMEDCT/...        271649006  \n2   http://purl.bioontology.org/ontology/SNOMEDCT/...        271650006  \n3   http://purl.bioontology.org/ontology/SNOMEDCT/...        397063002  \n4   http://purl.bioontology.org/ontology/SNOMEDCT/...        250220000  \n5   http://purl.bioontology.org/ontology/SNOMEDCT/...        365616005  \n6   http://purl.bioontology.org/ontology/SNOMEDCT/...           767002  \n7   http://purl.bioontology.org/ontology/SNOMEDCT/...        277201004  \n8   http://purl.bioontology.org/ontology/SNOMEDCT/...        365811003  \n9   http://purl.bioontology.org/ontology/SNOMEDCT/...        365760004  \n10  http://purl.bioontology.org/ontology/SNOMEDCT/...        365755003  \n11  http://purl.bioontology.org/ontology/SNOMEDCT/...         14804005  \n12  http://purl.bioontology.org/ontology/SNOMEDCT/...         55235003  \n13  http://purl.bioontology.org/ontology/SNOMEDCT/...        365793008  \n14  http://purl.bioontology.org/ontology/SNOMEDCT/...        166832000  \n15  http://purl.bioontology.org/ontology/SNOMEDCT/...        166833005  \n16  http://purl.bioontology.org/ontology/SNOMEDCT/...        197480006  \n17  http://purl.bioontology.org/ontology/SNOMEDCT/...         44186003  \n18  http://purl.bioontology.org/ontology/SNOMEDCT/...        365967005  \n19  http://purl.bioontology.org/ontology/SNOMEDCT/...        226452008  \n20  http://purl.bioontology.org/ontology/SNOMEDCT/...        226448008  \n21  http://purl.bioontology.org/ontology/SNOMEDCT/...        271925006  \n22  http://purl.bioontology.org/ontology/SNOMEDCT/...        387458008  \n23  http://purl.bioontology.org/ontology/SNOMEDCT/...  449681000124101  \n24  http://purl.bioontology.org/ontology/SNOMEDCT/...        182764009  \n25  http://purl.bioontology.org/ontology/SNOMEDCT/...        409149001  \n26  http://purl.bioontology.org/ontology/SNOMEDCT/...        315053001  \n27  http://purl.bioontology.org/ontology/SNOMEDCT/...         41549009  \n28  http://purl.bioontology.org/ontology/SNOMEDCT/...         73211009  \n29  http://purl.bioontology.org/ontology/SNOMEDCT/...         38341003  \n30  http://purl.bioontology.org/ontology/SNOMEDCT/...         55822004  ",
      "text/html": "<div>\n<style scoped>\n    .dataframe tbody tr th:only-of-type {\n        vertical-align: middle;\n    }\n\n    .dataframe tbody tr th {\n        vertical-align: top;\n    }\n\n    .dataframe thead th {\n        text-align: right;\n    }\n</style>\n<table border=\"1\" class=\"dataframe\">\n  <thead>\n    <tr style=\"text-align: right;\">\n      <th></th>\n      <th>source</th>\n      <th>label</th>\n      <th>URL</th>\n      <th>code</th>\n    </tr>\n  </thead>\n  <tbody>\n    <tr>\n      <th>0</th>\n      <td>baseline_data</td>\n      <td>smoker</td>\n      <td>http://purl.bioontology.org/ontology/SNOMEDCT/...</td>\n      <td>77176002</td>\n    </tr>\n    <tr>\n      <th>1</th>\n      <td>blood_data</td>\n      <td>systolic</td>\n      <td>http://purl.bioontology.org/ontology/SNOMEDCT/...</td>\n      <td>271649006</td>\n    </tr>\n    <tr>\n      <th>2</th>\n      <td>blood_data</td>\n      <td>diastolic</td>\n      <td>http://purl.bioontology.org/ontology/SNOMEDCT/...</td>\n      <td>271650006</td>\n    </tr>\n    <tr>\n      <th>3</th>\n      <td>blood_data</td>\n      <td>erythrocytes</td>\n      <td>http://purl.bioontology.org/ontology/SNOMEDCT/...</td>\n      <td>397063002</td>\n    </tr>\n    <tr>\n      <th>4</th>\n      <td>blood_data</td>\n      <td>hemoglobin</td>\n      <td>http://purl.bioontology.org/ontology/SNOMEDCT/...</td>\n      <td>250220000</td>\n    </tr>\n    <tr>\n      <th>5</th>\n      <td>blood_data</td>\n      <td>hematocrit</td>\n      <td>http://purl.bioontology.org/ontology/SNOMEDCT/...</td>\n      <td>365616005</td>\n    </tr>\n    <tr>\n      <th>6</th>\n      <td>blood_data</td>\n      <td>wbc</td>\n      <td>http://purl.bioontology.org/ontology/SNOMEDCT/...</td>\n      <td>767002</td>\n    </tr>\n    <tr>\n      <th>7</th>\n      <td>blood_data</td>\n      <td>platelets</td>\n      <td>http://purl.bioontology.org/ontology/SNOMEDCT/...</td>\n      <td>277201004</td>\n    </tr>\n    <tr>\n      <th>8</th>\n      <td>blood_data</td>\n      <td>glucose</td>\n      <td>http://purl.bioontology.org/ontology/SNOMEDCT/...</td>\n      <td>365811003</td>\n    </tr>\n    <tr>\n      <th>9</th>\n      <td>blood_data</td>\n      <td>potassium</td>\n      <td>http://purl.bioontology.org/ontology/SNOMEDCT/...</td>\n      <td>365760004</td>\n    </tr>\n    <tr>\n      <th>10</th>\n      <td>blood_data</td>\n      <td>urea</td>\n      <td>http://purl.bioontology.org/ontology/SNOMEDCT/...</td>\n      <td>365755003</td>\n    </tr>\n    <tr>\n      <th>11</th>\n      <td>blood_data</td>\n      <td>creatine</td>\n      <td>http://purl.bioontology.org/ontology/SNOMEDCT/...</td>\n      <td>14804005</td>\n    </tr>\n    <tr>\n      <th>12</th>\n      <td>blood_data</td>\n      <td>crp</td>\n      <td>http://purl.bioontology.org/ontology/SNOMEDCT/...</td>\n      <td>55235003</td>\n    </tr>\n    <tr>\n      <th>13</th>\n      <td>blood_data</td>\n      <td>chol</td>\n      <td>http://purl.bioontology.org/ontology/SNOMEDCT/...</td>\n      <td>365793008</td>\n    </tr>\n    <tr>\n      <th>14</th>\n      <td>blood_data</td>\n      <td>hdl</td>\n      <td>http://purl.bioontology.org/ontology/SNOMEDCT/...</td>\n      <td>166832000</td>\n    </tr>\n    <tr>\n      <th>15</th>\n      <td>blood_data</td>\n      <td>ldl</td>\n      <td>http://purl.bioontology.org/ontology/SNOMEDCT/...</td>\n      <td>166833005</td>\n    </tr>\n    <tr>\n      <th>16</th>\n      <td>quest_data</td>\n      <td>anxiety</td>\n      <td>http://purl.bioontology.org/ontology/SNOMEDCT/...</td>\n      <td>197480006</td>\n    </tr>\n    <tr>\n      <th>17</th>\n      <td>quest_data</td>\n      <td>sleep</td>\n      <td>http://purl.bioontology.org/ontology/SNOMEDCT/...</td>\n      <td>44186003</td>\n    </tr>\n    <tr>\n      <th>18</th>\n      <td>quest_data</td>\n      <td>alcohol</td>\n      <td>http://purl.bioontology.org/ontology/SNOMEDCT/...</td>\n      <td>365967005</td>\n    </tr>\n    <tr>\n      <th>19</th>\n      <td>quest_data</td>\n      <td>fruit</td>\n      <td>http://purl.bioontology.org/ontology/SNOMEDCT/...</td>\n      <td>226452008</td>\n    </tr>\n    <tr>\n      <th>20</th>\n      <td>quest_data</td>\n      <td>vegetable</td>\n      <td>http://purl.bioontology.org/ontology/SNOMEDCT/...</td>\n      <td>226448008</td>\n    </tr>\n    <tr>\n      <th>21</th>\n      <td>treat_data</td>\n      <td>cvscore</td>\n      <td>http://purl.bioontology.org/ontology/SNOMEDCT/...</td>\n      <td>271925006</td>\n    </tr>\n    <tr>\n      <th>22</th>\n      <td>treat_data</td>\n      <td>aspirin</td>\n      <td>http://purl.bioontology.org/ontology/SNOMEDCT/...</td>\n      <td>387458008</td>\n    </tr>\n    <tr>\n      <th>23</th>\n      <td>treat_data</td>\n      <td>clopridrogel</td>\n      <td>http://purl.bioontology.org/ontology/SNOMEDCT/...</td>\n      <td>449681000124101</td>\n    </tr>\n    <tr>\n      <th>24</th>\n      <td>treat_data</td>\n      <td>anticlot</td>\n      <td>http://purl.bioontology.org/ontology/SNOMEDCT/...</td>\n      <td>182764009</td>\n    </tr>\n    <tr>\n      <th>25</th>\n      <td>treat_data</td>\n      <td>ezetimibe</td>\n      <td>http://purl.bioontology.org/ontology/SNOMEDCT/...</td>\n      <td>409149001</td>\n    </tr>\n    <tr>\n      <th>26</th>\n      <td>treat_data</td>\n      <td>statins</td>\n      <td>http://purl.bioontology.org/ontology/SNOMEDCT/...</td>\n      <td>315053001</td>\n    </tr>\n    <tr>\n      <th>27</th>\n      <td>treat_data</td>\n      <td>ace</td>\n      <td>http://purl.bioontology.org/ontology/SNOMEDCT/...</td>\n      <td>41549009</td>\n    </tr>\n    <tr>\n      <th>28</th>\n      <td>diag_data</td>\n      <td>DE10</td>\n      <td>http://purl.bioontology.org/ontology/SNOMEDCT/...</td>\n      <td>73211009</td>\n    </tr>\n    <tr>\n      <th>29</th>\n      <td>diag_data</td>\n      <td>BZFC8A</td>\n      <td>http://purl.bioontology.org/ontology/SNOMEDCT/...</td>\n      <td>38341003</td>\n    </tr>\n    <tr>\n      <th>30</th>\n      <td>diag_data</td>\n      <td>DE782</td>\n      <td>http://purl.bioontology.org/ontology/SNOMEDCT/...</td>\n      <td>55822004</td>\n    </tr>\n  </tbody>\n</table>\n</div>"
     },
     "execution_count": 4,
     "metadata": {},
     "output_type": "execute_result"
    }
   ],
   "source": [
    "snomed_df = pd.read_csv('data/snomed.csv')\n",
    "snomed_df = snomed_df.astype({'code': 'string'})\n",
    "\n",
    "\n",
    "snomed_df"
   ]
  },
  {
   "cell_type": "code",
   "execution_count": 6,
   "id": "2ce64a98",
   "metadata": {},
   "outputs": [
    {
     "name": "stdout",
     "output_type": "stream",
     "text": [
      "<class 'pandas.core.frame.DataFrame'>\n",
      "RangeIndex: 31 entries, 0 to 30\n",
      "Data columns (total 4 columns):\n",
      " #   Column  Non-Null Count  Dtype \n",
      "---  ------  --------------  ----- \n",
      " 0   source  31 non-null     object\n",
      " 1   label   31 non-null     object\n",
      " 2   URL     31 non-null     object\n",
      " 3   code    31 non-null     string\n",
      "dtypes: object(3), string(1)\n",
      "memory usage: 1.1+ KB\n"
     ]
    }
   ],
   "source": [
    "snomed_df.info()"
   ]
  },
  {
   "cell_type": "markdown",
   "id": "f344be49-c119-4d06-82af-358e1b399407",
   "metadata": {},
   "source": [
    "# Fetching observations for cholesterol for patients 3, 4, and 5 and plotting them"
   ]
  },
  {
   "cell_type": "code",
   "execution_count": 5,
   "id": "0b4b1f85-4925-4baf-a259-6e63050f0d38",
   "metadata": {
    "ExecuteTime": {
     "end_time": "2023-11-15T13:39:40.629227200Z",
     "start_time": "2023-11-15T13:39:40.396137100Z"
    }
   },
   "outputs": [
    {
     "data": {
      "text/plain": "<Figure size 640x480 with 1 Axes>",
      "image/png": "[encoded data removed]"
     },
     "metadata": {},
     "output_type": "display_data"
    }
   ],
   "source": [
    "snomed_entry = snomed_df.loc[snomed_df['label'] == 'ldl'].iloc[0]\n",
    "\n",
    "response = requests.get('{}/{}?patient={}&code={}'.format(BASE_URL, 'Observation', '3,4,5', snomed_entry['code']))\n",
    "\n",
    "measures_df = pd.json_normalize(response.json(), record_path='entry')[\n",
    "    ['resource.subject.reference', 'resource.effectiveDateTime', 'resource.valueQuantity.value']]\n",
    "measures_df = measures_df.astype({'resource.effectiveDateTime': 'datetime64[ns]', 'resource.valueQuantity.value': 'float64'})\n",
    "\n",
    "for patient in measures_df['resource.subject.reference'].value_counts().index:\n",
    "    patient_measures_df = measures_df.loc[measures_df['resource.subject.reference'] == patient]\n",
    "\n",
    "    plt.plot(patient_measures_df['resource.effectiveDateTime'], patient_measures_df['resource.valueQuantity.value'], label=patient)\n",
    "\n",
    "plt.title(snomed_entry['label'])\n",
    "plt.legend()\n",
    "#plt.xticks(rotation=45)\n",
    "plt.show()"
   ]
  },
  {
   "cell_type": "markdown",
   "id": "7844f823-378d-40d0-b306-702cb9e2de1d",
   "metadata": {},
   "source": [
    "# Get the data for patient 3"
   ]
  },
  {
   "cell_type": "markdown",
   "id": "bf3026cf-a4bc-4397-855a-6cc2608e7f8b",
   "metadata": {},
   "source": [
    "## Patient data"
   ]
  },
  {
   "cell_type": "code",
   "execution_count": 8,
   "id": "06efbdad-44d5-437d-89d0-8a941769b5a7",
   "metadata": {
    "ExecuteTime": {
     "end_time": "2023-11-15T14:02:06.037373900Z",
     "start_time": "2023-11-15T14:02:05.996058500Z"
    }
   },
   "outputs": [
    {
     "data": {
      "text/plain": "   id gender  birthDate\n0  50   male 1944-10-05",
      "text/html": "<div>\n<style scoped>\n    .dataframe tbody tr th:only-of-type {\n        vertical-align: middle;\n    }\n\n    .dataframe tbody tr th {\n        vertical-align: top;\n    }\n\n    .dataframe thead th {\n        text-align: right;\n    }\n</style>\n<table border=\"1\" class=\"dataframe\">\n  <thead>\n    <tr style=\"text-align: right;\">\n      <th></th>\n      <th>id</th>\n      <th>gender</th>\n      <th>birthDate</th>\n    </tr>\n  </thead>\n  <tbody>\n    <tr>\n      <th>0</th>\n      <td>50</td>\n      <td>male</td>\n      <td>1944-10-05</td>\n    </tr>\n  </tbody>\n</table>\n</div>"
     },
     "execution_count": 8,
     "metadata": {},
     "output_type": "execute_result"
    }
   ],
   "source": [
    "patient_id = 50\n",
    "\n",
    "response = requests.get('{}/{}/{}'.format(BASE_URL, 'Patient', patient_id))\n",
    "\n",
    "patient_df = pd.json_normalize(response.json())[['id', 'gender', 'birthDate']]\n",
    "patient_df = patient_df.astype({'birthDate': 'datetime64[ns]'})\n",
    "\n",
    "patient_df"
   ]
  },
  {
   "cell_type": "markdown",
   "id": "433788ee-70ad-4e67-9eac-69bc76c8645d",
   "metadata": {},
   "source": [
    "## Observations"
   ]
  },
  {
   "cell_type": "code",
   "execution_count": 9,
   "id": "4c4be71e-c037-4b16-8e0e-7aad6f2f2e11",
   "metadata": {},
   "outputs": [
    {
     "data": {
      "text/html": [
       "<div>\n",
       "<style scoped>\n",
       "    .dataframe tbody tr th:only-of-type {\n",
       "        vertical-align: middle;\n",
       "    }\n",
       "\n",
       "    .dataframe tbody tr th {\n",
       "        vertical-align: top;\n",
       "    }\n",
       "\n",
       "    .dataframe thead th {\n",
       "        text-align: right;\n",
       "    }\n",
       "</style>\n",
       "<table border=\"1\" class=\"dataframe\">\n",
       "  <thead>\n",
       "    <tr style=\"text-align: right;\">\n",
       "      <th></th>\n",
       "      <th>snomed</th>\n",
       "      <th>date</th>\n",
       "      <th>value</th>\n",
       "    </tr>\n",
       "  </thead>\n",
       "  <tbody>\n",
       "    <tr>\n",
       "      <th>0</th>\n",
       "      <td>77176002</td>\n",
       "      <td>2005-06-10</td>\n",
       "      <td>former</td>\n",
       "    </tr>\n",
       "    <tr>\n",
       "      <th>1</th>\n",
       "      <td>271649006</td>\n",
       "      <td>2005-05-12</td>\n",
       "      <td>148.0</td>\n",
       "    </tr>\n",
       "    <tr>\n",
       "      <th>2</th>\n",
       "      <td>271649006</td>\n",
       "      <td>2006-08-26</td>\n",
       "      <td>128.0</td>\n",
       "    </tr>\n",
       "    <tr>\n",
       "      <th>3</th>\n",
       "      <td>271649006</td>\n",
       "      <td>2007-10-13</td>\n",
       "      <td>170.0</td>\n",
       "    </tr>\n",
       "    <tr>\n",
       "      <th>4</th>\n",
       "      <td>271649006</td>\n",
       "      <td>2008-08-25</td>\n",
       "      <td>170.0</td>\n",
       "    </tr>\n",
       "    <tr>\n",
       "      <th>5</th>\n",
       "      <td>271649006</td>\n",
       "      <td>2009-08-27</td>\n",
       "      <td>150.0</td>\n",
       "    </tr>\n",
       "    <tr>\n",
       "      <th>6</th>\n",
       "      <td>271649006</td>\n",
       "      <td>2010-08-10</td>\n",
       "      <td>122.0</td>\n",
       "    </tr>\n",
       "    <tr>\n",
       "      <th>7</th>\n",
       "      <td>271650006</td>\n",
       "      <td>2005-05-12</td>\n",
       "      <td>74.0</td>\n",
       "    </tr>\n",
       "    <tr>\n",
       "      <th>8</th>\n",
       "      <td>271650006</td>\n",
       "      <td>2006-08-26</td>\n",
       "      <td>70.0</td>\n",
       "    </tr>\n",
       "    <tr>\n",
       "      <th>9</th>\n",
       "      <td>271650006</td>\n",
       "      <td>2007-10-13</td>\n",
       "      <td>70.0</td>\n",
       "    </tr>\n",
       "  </tbody>\n",
       "</table>\n",
       "</div>"
      ],
      "text/plain": [
       "      snomed       date   value\n",
       "0   77176002 2005-06-10  former\n",
       "1  271649006 2005-05-12   148.0\n",
       "2  271649006 2006-08-26   128.0\n",
       "3  271649006 2007-10-13   170.0\n",
       "4  271649006 2008-08-25   170.0\n",
       "5  271649006 2009-08-27   150.0\n",
       "6  271649006 2010-08-10   122.0\n",
       "7  271650006 2005-05-12    74.0\n",
       "8  271650006 2006-08-26    70.0\n",
       "9  271650006 2007-10-13    70.0"
      ]
     },
     "execution_count": 9,
     "metadata": {},
     "output_type": "execute_result"
    }
   ],
   "source": [
    "#Everything but treatment data\n",
    "observation_codes = ','.join(snomed_df.loc[snomed_df['source'] != 'treat_data']['code'].to_list())\n",
    "\n",
    "response = requests.get('{}/{}?patient={}&code={}'.format(BASE_URL, 'Observation', patient_id, observation_codes))\n",
    "\n",
    "observations_df = pd.json_normalize(response.json(), record_path='entry')[\n",
    "    ['resource.code.coding', 'resource.effectiveDateTime', 'resource.valueQuantity.value']]\n",
    "observations_df = observations_df.astype({'resource.effectiveDateTime': 'datetime64[ns]'})\n",
    "observations_df['resource.code.coding'] = observations_df['resource.code.coding'].apply(lambda code: code[0]['code'])\n",
    "\n",
    "observations_df.rename(columns={'resource.code.coding': 'snomed', 'resource.effectiveDateTime': 'date', \n",
    "                                'resource.valueQuantity.value': 'value'}, inplace=True)\n",
    "\n",
    "observations_df.head(10)"
   ]
  },
  {
   "cell_type": "markdown",
   "id": "3093f7a4-8388-4886-a5df-a472bf3a4613",
   "metadata": {},
   "source": [
    "## Procedures"
   ]
  },
  {
   "cell_type": "code",
   "execution_count": 10,
   "id": "87e39c81-1d90-43bd-8c32-d870a66a05eb",
   "metadata": {},
   "outputs": [
    {
     "data": {
      "text/html": [
       "<div>\n",
       "<style scoped>\n",
       "    .dataframe tbody tr th:only-of-type {\n",
       "        vertical-align: middle;\n",
       "    }\n",
       "\n",
       "    .dataframe tbody tr th {\n",
       "        vertical-align: top;\n",
       "    }\n",
       "\n",
       "    .dataframe thead th {\n",
       "        text-align: right;\n",
       "    }\n",
       "</style>\n",
       "<table border=\"1\" class=\"dataframe\">\n",
       "  <thead>\n",
       "    <tr style=\"text-align: right;\">\n",
       "      <th></th>\n",
       "      <th>snomed</th>\n",
       "      <th>date</th>\n",
       "      <th>value</th>\n",
       "    </tr>\n",
       "  </thead>\n",
       "  <tbody>\n",
       "    <tr>\n",
       "      <th>0</th>\n",
       "      <td>271925006</td>\n",
       "      <td>2005-06-10</td>\n",
       "      <td>0.0387956197654217</td>\n",
       "    </tr>\n",
       "    <tr>\n",
       "      <th>1</th>\n",
       "      <td>271925006</td>\n",
       "      <td>2006-09-12</td>\n",
       "      <td>0.029311555007292</td>\n",
       "    </tr>\n",
       "    <tr>\n",
       "      <th>2</th>\n",
       "      <td>271925006</td>\n",
       "      <td>2007-10-15</td>\n",
       "      <td>0.0787490766132739</td>\n",
       "    </tr>\n",
       "    <tr>\n",
       "      <th>3</th>\n",
       "      <td>271925006</td>\n",
       "      <td>2008-09-22</td>\n",
       "      <td>0.0748521869323043</td>\n",
       "    </tr>\n",
       "    <tr>\n",
       "      <th>4</th>\n",
       "      <td>271925006</td>\n",
       "      <td>2009-09-21</td>\n",
       "      <td>0.0475592366499585</td>\n",
       "    </tr>\n",
       "    <tr>\n",
       "      <th>5</th>\n",
       "      <td>271925006</td>\n",
       "      <td>2010-08-11</td>\n",
       "      <td>0.0324986455636939</td>\n",
       "    </tr>\n",
       "    <tr>\n",
       "      <th>6</th>\n",
       "      <td>387458008</td>\n",
       "      <td>2005-06-10</td>\n",
       "      <td>1.0</td>\n",
       "    </tr>\n",
       "    <tr>\n",
       "      <th>7</th>\n",
       "      <td>387458008</td>\n",
       "      <td>2006-09-12</td>\n",
       "      <td>1.0</td>\n",
       "    </tr>\n",
       "    <tr>\n",
       "      <th>8</th>\n",
       "      <td>387458008</td>\n",
       "      <td>2007-10-15</td>\n",
       "      <td>1.0</td>\n",
       "    </tr>\n",
       "    <tr>\n",
       "      <th>9</th>\n",
       "      <td>387458008</td>\n",
       "      <td>2008-09-22</td>\n",
       "      <td>1.0</td>\n",
       "    </tr>\n",
       "  </tbody>\n",
       "</table>\n",
       "</div>"
      ],
      "text/plain": [
       "      snomed       date               value\n",
       "0  271925006 2005-06-10  0.0387956197654217\n",
       "1  271925006 2006-09-12   0.029311555007292\n",
       "2  271925006 2007-10-15  0.0787490766132739\n",
       "3  271925006 2008-09-22  0.0748521869323043\n",
       "4  271925006 2009-09-21  0.0475592366499585\n",
       "5  271925006 2010-08-11  0.0324986455636939\n",
       "6  387458008 2005-06-10                 1.0\n",
       "7  387458008 2006-09-12                 1.0\n",
       "8  387458008 2007-10-15                 1.0\n",
       "9  387458008 2008-09-22                 1.0"
      ]
     },
     "execution_count": 10,
     "metadata": {},
     "output_type": "execute_result"
    }
   ],
   "source": [
    "#Treatment data only\n",
    "proc_codes = ','.join(snomed_df.loc[snomed_df['source'] == 'treat_data']['code'].to_list())\n",
    "\n",
    "response = requests.get('{}/{}?patient={}&code={}'.format(BASE_URL, 'Procedure', patient_id, proc_codes))\n",
    "\n",
    "procs_df = pd.json_normalize(response.json(), record_path='entry')[\n",
    "    ['resource.code.coding', 'resource.performedDateTime', 'resource.valueQuantity.value']]\n",
    "procs_df = procs_df.astype({'resource.performedDateTime': 'datetime64[ns]'})\n",
    "procs_df['resource.code.coding'] = procs_df['resource.code.coding'].apply(lambda code: code[0]['code'])\n",
    "procs_df.rename(columns={'resource.code.coding': 'snomed', \n",
    "                         'resource.performedDateTime': 'date', 'resource.valueQuantity.value': 'value'}, inplace=True)\n",
    "\n",
    "procs_df.head(10)"
   ]
  },
  {
   "cell_type": "markdown",
   "id": "17fcecc5-61c8-452b-aa2d-f9e1f0513bf2",
   "metadata": {},
   "source": [
    "## Preprocessing"
   ]
  },
  {
   "cell_type": "code",
   "execution_count": 11,
   "id": "3b886e85-6941-47ff-9a2c-7236acbd92c1",
   "metadata": {},
   "outputs": [
    {
     "data": {
      "text/plain": [
       "female          1.294774\n",
       "age            -0.035613\n",
       "current        -0.588366\n",
       "former          1.240573\n",
       "cvscore        -0.868591\n",
       "aspirin         0.419849\n",
       "clopridrogel   -0.203361\n",
       "anticlot       -0.151878\n",
       "ezetimibe      -0.136119\n",
       "statins         0.410573\n",
       "ace             0.515892\n",
       "systolic       -1.076466\n",
       "diastolic      -0.771068\n",
       "erythrocytes   -1.275048\n",
       "hemoglobin     -1.320485\n",
       "hematocrit     -1.442950\n",
       "wbc            -0.414048\n",
       "platelets      -1.347499\n",
       "glucose         0.033275\n",
       "potassium      -0.393481\n",
       "urea            0.000000\n",
       "creatine        0.627767\n",
       "crp             0.443390\n",
       "chol           -0.479590\n",
       "hdl            -0.284287\n",
       "ldl            -0.455633\n",
       "anxiety         0.539655\n",
       "sleep          -0.144770\n",
       "alcohol        -0.603405\n",
       "fruit           0.523171\n",
       "vegetable       0.495318\n",
       "BZFC8A          1.222907\n",
       "DE10           -0.457613\n",
       "DE782           1.159919\n",
       "dtype: float64"
      ]
     },
     "execution_count": 11,
     "metadata": {},
     "output_type": "execute_result"
    }
   ],
   "source": [
    "# Very naive preprocessing step that will normalize the data and keep only the last value for each variable\n",
    "# It needs to be tailored to what you have done in Workshop 1 and ensure the variables are correctly ordered\n",
    "# It is using the order from the norm_df dataframe, that is where you have dumped the normalisation for your variables\n",
    "def preprocessing_step(patient_df, norm_df, observations_df, procs_df):\n",
    "    data_ser = pd.Series(index=norm_df['label'].values)\n",
    "\n",
    "    # Merging the normalisation file with the snomed codes for easier merging\n",
    "    snomed_df = pd.read_csv('data/snomed.csv')\n",
    "    snomed_df = snomed_df.astype({'code': 'string'})\n",
    "    norm_snomed_df = norm_df.merge(snomed_df, on='label', how='outer')\n",
    "\n",
    "    # Extracting most of the data\n",
    "    data_df = pd.concat([observations_df, procs_df])\n",
    "\n",
    "    data_df = data_df.loc[data_df['value'] != 'nan']\n",
    "    \n",
    "    merged_data_df = data_df.merge(norm_snomed_df, left_on=['snomed'], right_on=['code'])\n",
    "    norm_data_df = merged_data_df.dropna().copy()\n",
    "    norm_data_df['norm_value'] = norm_data_df.apply(lambda row: (float(row['value'])-row['mean'])/row['std'], axis=1)\n",
    "    \n",
    "    data_ser.update(norm_data_df[['label', 'date', 'norm_value']]\\\n",
    "        .sort_values(by=['label', 'date'], ascending=[True, False])\\\n",
    "        .drop_duplicates(subset=['label'])[['label', 'norm_value']]\\\n",
    "        .set_index('label')['norm_value'])\n",
    "    \n",
    "    # Extracting patient data\n",
    "    data_ser['female'] = normalize_value(norm_snomed_df, 'female', patient_df['gender'].apply(lambda sex: 1 if sex == 'female' else 0)[0])\n",
    "    data_ser['age'] = normalize_value(\n",
    "        norm_snomed_df, 'age', patient_df['birthDate'].apply(lambda dob: (datetime.now() - dob).days/365.23)[0])\n",
    "\n",
    "    # Extracting smoking data\n",
    "    smoking_code = norm_snomed_df.loc[norm_snomed_df['label'] == 'smoker'].iloc[0]['code']\n",
    "    smoking_status = data_df.loc[data_df['snomed'] == smoking_code].iloc[0]['value']\n",
    "\n",
    "    # I consider only 'former' and 'current' statuses since never can be inferred from them (if they are both at 0)\n",
    "    for status in ['former', 'current']:\n",
    "        if smoking_status ==  status:\n",
    "            value = 1\n",
    "        else:\n",
    "            value = 0\n",
    "        \n",
    "        data_ser[status] = normalize_value(norm_snomed_df, status, value)\n",
    "\n",
    "    # Extracting diag data\n",
    "    diags_df = norm_snomed_df.loc[norm_snomed_df['source'] == 'diag_data']\n",
    "    \n",
    "    for index, diag_info in diags_df.iterrows():\n",
    "        try:\n",
    "            # I try to find to get the first items in the data with the diagnosis\n",
    "            # It will throw an IndexError if it cannot find it\n",
    "            data_df.loc[data_df['snomed'] == diag_info['code']].iloc[0]\n",
    "\n",
    "            value = 1\n",
    "        except IndexError:\n",
    "            value = 0\n",
    "        data_ser[diag_info['label']] = normalize_value(norm_snomed_df, diag_info['label'], value)\n",
    "    \n",
    "    \n",
    "    return data_ser.fillna(0)\n",
    "    \n",
    "def normalize_value(norm_snomed_df, variable, value):\n",
    "    mean = norm_snomed_df.loc[norm_snomed_df['label'] == variable].iloc[0]['mean']\n",
    "    std = norm_snomed_df.loc[norm_snomed_df['label'] == variable].iloc[0]['std']\n",
    "\n",
    "    return (value-mean)/std\n",
    "\n",
    "norm_df = pd.read_csv('data/normalization.csv')\n",
    "data_ser = preprocessing_step(patient_df, norm_df, observations_df, procs_df)\n",
    "\n",
    "data_ser\n"
   ]
  },
  {
   "cell_type": "markdown",
   "id": "2502cb73-5189-47b8-8a45-c02e1354992c",
   "metadata": {},
   "source": [
    "# Making predictions"
   ]
  },
  {
   "cell_type": "code",
   "execution_count": 12,
   "id": "4d6149f6-b06c-4fcb-821d-5af775b27543",
   "metadata": {},
   "outputs": [
    {
     "name": "stdout",
     "output_type": "stream",
     "text": [
      "The risk of dying within 30 days for patient 2 is 97% according to my model.\n"
     ]
    }
   ],
   "source": [
    "import random\n",
    "class FakeModel():\n",
    "    def predict(self, X):\n",
    "        return random.random()\n",
    "\n",
    "\n",
    "model = FakeModel()\n",
    "\n",
    "# You should be able to pass the data_ser to your model to make predictions\n",
    "risk = model.predict(data_ser)\n",
    "\n",
    "print('The risk of dying within 30 days for patient {} is {:.0%} according to my model.'.format(patient_id, risk))"
   ]
  }
 ],
 "metadata": {
  "kernelspec": {
   "display_name": "Python 3 (ipykernel)",
   "language": "python",
   "name": "python3"
  },
  "language_info": {
   "codemirror_mode": {
    "name": "ipython",
    "version": 3
   },
   "file_extension": ".py",
   "mimetype": "text/x-python",
   "name": "python",
   "nbconvert_exporter": "python",
   "pygments_lexer": "ipython3",
   "version": "3.11.3"
  }
 },
 "nbformat": 4,
 "nbformat_minor": 5
}
