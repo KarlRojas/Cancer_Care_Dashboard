{
 "cells": [
  {
   "cell_type": "code",
   "execution_count": 2,
   "metadata": {},
   "outputs": [],
   "source": [
    "from shiny import Inputs, Outputs, Session, App, ui\n",
    "\n",
    "app_ui = ui.page_fluid(ui.h1(\"Hello world!\"))\n",
    "\n",
    "\n",
    "def server(input: Inputs, output: Outputs, session: Session):\n",
    "    None\n",
    "\n",
    "\n",
    "app = App(app_ui, server)"
   ]
  }
 ],
 "metadata": {
  "kernelspec": {
   "display_name": "Python 3",
   "language": "python",
   "name": "python3"
  },
  "language_info": {
   "codemirror_mode": {
    "name": "ipython",
    "version": 3
   },
   "file_extension": ".py",
   "mimetype": "text/x-python",
   "name": "python",
   "nbconvert_exporter": "python",
   "pygments_lexer": "ipython3",
   "version": "3.11.3"
  },
  "orig_nbformat": 4
 },
 "nbformat": 4,
 "nbformat_minor": 2
}
